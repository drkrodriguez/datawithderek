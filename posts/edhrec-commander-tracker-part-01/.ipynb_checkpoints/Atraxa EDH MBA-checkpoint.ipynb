{
 "cells": [
  {
   "cell_type": "markdown",
   "id": "4fdb45fb",
   "metadata": {},
   "source": [
    "# Atraxa EDH MBA"
   ]
  },
  {
   "cell_type": "code",
   "execution_count": 29,
   "id": "a80940bd",
   "metadata": {},
   "outputs": [],
   "source": [
    "# Load saved link suffixes\n",
    "import pickle\n",
    "\n",
    "# Load the object from the file\n",
    "with open('hrefs.pkl', 'rb') as file:\n",
    "    hrefs = pickle.load(file)"
   ]
  },
  {
   "cell_type": "code",
   "execution_count": 3,
   "id": "5ae561fa",
   "metadata": {},
   "outputs": [
    {
     "data": {
      "text/plain": [
       "2136"
      ]
     },
     "execution_count": 3,
     "metadata": {},
     "output_type": "execute_result"
    }
   ],
   "source": [
    "len(hrefs)"
   ]
  },
  {
   "cell_type": "code",
   "execution_count": 31,
   "id": "8a75c97a",
   "metadata": {},
   "outputs": [
    {
     "name": "stdout",
     "output_type": "stream",
     "text": [
      "Failed for deck 6752855\n",
      "Failed for deck 6633047\n",
      "Failed for deck 5537893\n",
      "Failed for deck 5429789\n",
      "Failed for deck 5429775\n",
      "5\n"
     ]
    }
   ],
   "source": [
    "import requests\n",
    "from bs4 import BeautifulSoup\n",
    "import mtg_parser\n",
    "import pandas as pd\n",
    "\n",
    "decklist = []\n",
    "fail_count = 0\n",
    "for suffix in hrefs:\n",
    "    deck = suffix[-7:]\n",
    "    try:\n",
    "        try:\n",
    "            url = 'https://www.mtggoldfish.com/deck/' + str(deck) + '#paper'\n",
    "            cards = mtg_parser.parse_deck(url)\n",
    "            for card in cards:\n",
    "              decklist.append([deck, card.name])\n",
    "        except:\n",
    "            url = 'https://www.mtggoldfish.com/deck/' + str(deck)\n",
    "            cards = mtg_parser.parse_deck(url)\n",
    "            for card in cards:\n",
    "              decklist.append([deck, card.name])\n",
    "    except:\n",
    "        print('Failed for deck', deck)\n",
    "        fail_count += 1\n",
    "\n",
    "print(fail_count)"
   ]
  },
  {
   "cell_type": "code",
   "execution_count": 42,
   "id": "c3e59437",
   "metadata": {},
   "outputs": [
    {
     "name": "stdout",
     "output_type": "stream",
     "text": [
      "Object saved successfully!\n"
     ]
    }
   ],
   "source": [
    "import pickle\n",
    "\n",
    "# Save the object to a file\n",
    "with open('decklist_list.pkl', 'wb') as file:\n",
    "    pickle.dump(decklist, file)\n",
    "print(\"Object saved successfully!\")"
   ]
  },
  {
   "cell_type": "code",
   "execution_count": 35,
   "id": "ed6af543",
   "metadata": {},
   "outputs": [
    {
     "data": {
      "text/plain": [
       "195058"
      ]
     },
     "execution_count": 35,
     "metadata": {},
     "output_type": "execute_result"
    }
   ],
   "source": [
    "len(decklist)"
   ]
  },
  {
   "cell_type": "code",
   "execution_count": 45,
   "id": "d9647580",
   "metadata": {},
   "outputs": [
    {
     "data": {
      "text/plain": [
       "list"
      ]
     },
     "execution_count": 45,
     "metadata": {},
     "output_type": "execute_result"
    }
   ],
   "source": [
    "type(decklist)"
   ]
  },
  {
   "cell_type": "code",
   "execution_count": 53,
   "id": "a0e3669b",
   "metadata": {},
   "outputs": [],
   "source": [
    "columns = [\"deck\", \"card\"]\n",
    "df = pd.DataFrame(decklist, columns = columns)"
   ]
  },
  {
   "cell_type": "code",
   "execution_count": 54,
   "id": "1db35dcf",
   "metadata": {},
   "outputs": [
    {
     "name": "stdout",
     "output_type": "stream",
     "text": [
      "Object saved successfully!\n"
     ]
    }
   ],
   "source": [
    "import pickle\n",
    "\n",
    "# Save the object to a file\n",
    "with open('decklist_df.pkl', 'wb') as file:\n",
    "    pickle.dump(df, file)\n",
    "print(\"Object saved successfully!\")"
   ]
  },
  {
   "cell_type": "code",
   "execution_count": null,
   "id": "e44dc048",
   "metadata": {},
   "outputs": [],
   "source": [
    "import pickle\n",
    "\n",
    "# Load the object from the file\n",
    "with open('decklist_df.pkl', 'rb') as file:\n",
    "    decklist = pickle.load(file)"
   ]
  },
  {
   "cell_type": "code",
   "execution_count": null,
   "id": "db47bcc7",
   "metadata": {},
   "outputs": [],
   "source": [
    "import pandas as pd\n",
    "decklists_encoded = decklist.drop_duplicates()\n",
    "decklists_encoded= decklists_encoded.pivot(index='deck', columns='card', values='card')\n",
    "\n",
    "# Fill NaN values with False (optional)\n",
    "decklists_encoded = decklists_encoded.notna()\n",
    "\n",
    "# Reset the index if needed\n",
    "decklists_encoded.reset_index(inplace=True)\n",
    "decklists_encoded = decklists_encoded.drop('deck', axis=1)"
   ]
  },
  {
   "cell_type": "code",
   "execution_count": 55,
   "id": "fcaa0094",
   "metadata": {},
   "outputs": [],
   "source": [
    "import pickle\n",
    "\n",
    "# Load the object from the file\n",
    "with open('decklists_encoded.pkl', 'rb') as file:\n",
    "    decklists_encoded = pickle.load(file)"
   ]
  },
  {
   "cell_type": "code",
   "execution_count": null,
   "id": "618c8935",
   "metadata": {},
   "outputs": [],
   "source": [
    "from mlxtend.frequent_patterns import fpgrowth, apriori, association_rules\n",
    "frequent_itemsets = fpgrowth(decklists_encoded, min_support=0.1, use_colnames=True)"
   ]
  },
  {
   "cell_type": "code",
   "execution_count": null,
   "id": "37b2f894",
   "metadata": {},
   "outputs": [],
   "source": [
    "import pickle\n",
    "\n",
    "# Save the object to a file\n",
    "with open('frequent_itemsets_fpg.pkl', 'wb') as file:\n",
    "    pickle.dump(frequent_itemsets, file)\n",
    "print(\"Object saved successfully!\")"
   ]
  },
  {
   "cell_type": "code",
   "execution_count": null,
   "id": "46b354f6",
   "metadata": {},
   "outputs": [],
   "source": [
    "import pickle\n",
    "\n",
    "# Load the object from the file\n",
    "with open('frequent_itemsets_fpg.pkl', 'rb') as file:\n",
    "    frequent_itemsets = pickle.load(file)"
   ]
  },
  {
   "cell_type": "code",
   "execution_count": null,
   "id": "3067277d",
   "metadata": {},
   "outputs": [],
   "source": []
  },
  {
   "cell_type": "code",
   "execution_count": null,
   "id": "7d736316",
   "metadata": {},
   "outputs": [],
   "source": []
  },
  {
   "cell_type": "code",
   "execution_count": null,
   "id": "fd342a85",
   "metadata": {},
   "outputs": [],
   "source": []
  },
  {
   "cell_type": "code",
   "execution_count": null,
   "id": "7744b03c",
   "metadata": {},
   "outputs": [],
   "source": []
  },
  {
   "cell_type": "code",
   "execution_count": null,
   "id": "a72d2ae9",
   "metadata": {},
   "outputs": [],
   "source": []
  },
  {
   "cell_type": "code",
   "execution_count": null,
   "id": "1c61a96e",
   "metadata": {},
   "outputs": [],
   "source": []
  },
  {
   "cell_type": "code",
   "execution_count": null,
   "id": "2ff720e1",
   "metadata": {},
   "outputs": [],
   "source": []
  }
 ],
 "metadata": {
  "kernelspec": {
   "display_name": "Python 3 (ipykernel)",
   "language": "python",
   "name": "python3"
  },
  "language_info": {
   "codemirror_mode": {
    "name": "ipython",
    "version": 3
   },
   "file_extension": ".py",
   "mimetype": "text/x-python",
   "name": "python",
   "nbconvert_exporter": "python",
   "pygments_lexer": "ipython3",
   "version": "3.9.13"
  }
 },
 "nbformat": 4,
 "nbformat_minor": 5
}
